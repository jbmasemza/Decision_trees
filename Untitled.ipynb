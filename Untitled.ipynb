{
 "cells": [
  {
   "cell_type": "markdown",
   "metadata": {},
   "source": [
    "### LOADING REQUIRED LIABRARIES"
   ]
  },
  {
   "cell_type": "code",
   "execution_count": 1,
   "metadata": {},
   "outputs": [],
   "source": [
    "import pandas as pd\n",
    "import numpy as np\n",
    "from sklearn.model_selection import train_test_split\n",
    "from sklearn.preprocessing import MinMaxScaler\n",
    "from sklearn.tree import DecisionTreeClassifier\n",
    "from sklearn.metrics import classification_report\n",
    "from sklearn.metrics import classification_report, confusion_matrix\n",
    "from sklearn.metrics import roc_curve, auc\n",
    "from sklearn.metrics import roc_auc_score\n",
    "import matplotlib.pyplot as plt\n",
    "\n",
    "plt.style.use('ggplot')\n",
    "%matplotlib inline"
   ]
  },
  {
   "cell_type": "markdown",
   "metadata": {},
   "source": [
    "### LOADING AND CREATING THE DATAFRAME"
   ]
  },
  {
   "cell_type": "code",
   "execution_count": 2,
   "metadata": {},
   "outputs": [
    {
     "data": {
      "text/html": [
       "<div>\n",
       "<style scoped>\n",
       "    .dataframe tbody tr th:only-of-type {\n",
       "        vertical-align: middle;\n",
       "    }\n",
       "\n",
       "    .dataframe tbody tr th {\n",
       "        vertical-align: top;\n",
       "    }\n",
       "\n",
       "    .dataframe thead th {\n",
       "        text-align: right;\n",
       "    }\n",
       "</style>\n",
       "<table border=\"1\" class=\"dataframe\">\n",
       "  <thead>\n",
       "    <tr style=\"text-align: right;\">\n",
       "      <th></th>\n",
       "      <th>p</th>\n",
       "      <th>x</th>\n",
       "      <th>s</th>\n",
       "      <th>n</th>\n",
       "      <th>t</th>\n",
       "      <th>p.1</th>\n",
       "      <th>f</th>\n",
       "      <th>c</th>\n",
       "      <th>n.1</th>\n",
       "      <th>k</th>\n",
       "      <th>...</th>\n",
       "      <th>s.2</th>\n",
       "      <th>w</th>\n",
       "      <th>w.1</th>\n",
       "      <th>p.2</th>\n",
       "      <th>w.2</th>\n",
       "      <th>o</th>\n",
       "      <th>p.3</th>\n",
       "      <th>k.1</th>\n",
       "      <th>s.3</th>\n",
       "      <th>u</th>\n",
       "    </tr>\n",
       "  </thead>\n",
       "  <tbody>\n",
       "    <tr>\n",
       "      <th>0</th>\n",
       "      <td>e</td>\n",
       "      <td>x</td>\n",
       "      <td>s</td>\n",
       "      <td>y</td>\n",
       "      <td>t</td>\n",
       "      <td>a</td>\n",
       "      <td>f</td>\n",
       "      <td>c</td>\n",
       "      <td>b</td>\n",
       "      <td>k</td>\n",
       "      <td>...</td>\n",
       "      <td>s</td>\n",
       "      <td>w</td>\n",
       "      <td>w</td>\n",
       "      <td>p</td>\n",
       "      <td>w</td>\n",
       "      <td>o</td>\n",
       "      <td>p</td>\n",
       "      <td>n</td>\n",
       "      <td>n</td>\n",
       "      <td>g</td>\n",
       "    </tr>\n",
       "    <tr>\n",
       "      <th>1</th>\n",
       "      <td>e</td>\n",
       "      <td>b</td>\n",
       "      <td>s</td>\n",
       "      <td>w</td>\n",
       "      <td>t</td>\n",
       "      <td>l</td>\n",
       "      <td>f</td>\n",
       "      <td>c</td>\n",
       "      <td>b</td>\n",
       "      <td>n</td>\n",
       "      <td>...</td>\n",
       "      <td>s</td>\n",
       "      <td>w</td>\n",
       "      <td>w</td>\n",
       "      <td>p</td>\n",
       "      <td>w</td>\n",
       "      <td>o</td>\n",
       "      <td>p</td>\n",
       "      <td>n</td>\n",
       "      <td>n</td>\n",
       "      <td>m</td>\n",
       "    </tr>\n",
       "    <tr>\n",
       "      <th>2</th>\n",
       "      <td>p</td>\n",
       "      <td>x</td>\n",
       "      <td>y</td>\n",
       "      <td>w</td>\n",
       "      <td>t</td>\n",
       "      <td>p</td>\n",
       "      <td>f</td>\n",
       "      <td>c</td>\n",
       "      <td>n</td>\n",
       "      <td>n</td>\n",
       "      <td>...</td>\n",
       "      <td>s</td>\n",
       "      <td>w</td>\n",
       "      <td>w</td>\n",
       "      <td>p</td>\n",
       "      <td>w</td>\n",
       "      <td>o</td>\n",
       "      <td>p</td>\n",
       "      <td>k</td>\n",
       "      <td>s</td>\n",
       "      <td>u</td>\n",
       "    </tr>\n",
       "    <tr>\n",
       "      <th>3</th>\n",
       "      <td>e</td>\n",
       "      <td>x</td>\n",
       "      <td>s</td>\n",
       "      <td>g</td>\n",
       "      <td>f</td>\n",
       "      <td>n</td>\n",
       "      <td>f</td>\n",
       "      <td>w</td>\n",
       "      <td>b</td>\n",
       "      <td>k</td>\n",
       "      <td>...</td>\n",
       "      <td>s</td>\n",
       "      <td>w</td>\n",
       "      <td>w</td>\n",
       "      <td>p</td>\n",
       "      <td>w</td>\n",
       "      <td>o</td>\n",
       "      <td>e</td>\n",
       "      <td>n</td>\n",
       "      <td>a</td>\n",
       "      <td>g</td>\n",
       "    </tr>\n",
       "    <tr>\n",
       "      <th>4</th>\n",
       "      <td>e</td>\n",
       "      <td>x</td>\n",
       "      <td>y</td>\n",
       "      <td>y</td>\n",
       "      <td>t</td>\n",
       "      <td>a</td>\n",
       "      <td>f</td>\n",
       "      <td>c</td>\n",
       "      <td>b</td>\n",
       "      <td>n</td>\n",
       "      <td>...</td>\n",
       "      <td>s</td>\n",
       "      <td>w</td>\n",
       "      <td>w</td>\n",
       "      <td>p</td>\n",
       "      <td>w</td>\n",
       "      <td>o</td>\n",
       "      <td>p</td>\n",
       "      <td>k</td>\n",
       "      <td>n</td>\n",
       "      <td>g</td>\n",
       "    </tr>\n",
       "  </tbody>\n",
       "</table>\n",
       "<p>5 rows × 23 columns</p>\n",
       "</div>"
      ],
      "text/plain": [
       "   p  x  s  n  t p.1  f  c n.1  k  ... s.2  w w.1 p.2 w.2  o p.3 k.1 s.3  u\n",
       "0  e  x  s  y  t   a  f  c   b  k  ...   s  w   w   p   w  o   p   n   n  g\n",
       "1  e  b  s  w  t   l  f  c   b  n  ...   s  w   w   p   w  o   p   n   n  m\n",
       "2  p  x  y  w  t   p  f  c   n  n  ...   s  w   w   p   w  o   p   k   s  u\n",
       "3  e  x  s  g  f   n  f  w   b  k  ...   s  w   w   p   w  o   e   n   a  g\n",
       "4  e  x  y  y  t   a  f  c   b  n  ...   s  w   w   p   w  o   p   k   n  g\n",
       "\n",
       "[5 rows x 23 columns]"
      ]
     },
     "execution_count": 2,
     "metadata": {},
     "output_type": "execute_result"
    }
   ],
   "source": [
    "df = pd.read_csv('Data/agaricus-lepiota.data')\n",
    "df.head()"
   ]
  },
  {
   "cell_type": "code",
   "execution_count": 3,
   "metadata": {},
   "outputs": [
    {
     "data": {
      "text/plain": [
       "8123"
      ]
     },
     "execution_count": 3,
     "metadata": {},
     "output_type": "execute_result"
    }
   ],
   "source": [
    "#checking the length of our DataFrame\n",
    "df_len = len(df)\n",
    "df_len"
   ]
  },
  {
   "cell_type": "markdown",
   "metadata": {},
   "source": [
    "# EXAMINING THE DATAFRAME"
   ]
  },
  {
   "cell_type": "code",
   "execution_count": 4,
   "metadata": {},
   "outputs": [],
   "source": [
    "# rename columns\n",
    "df.rename(columns={'p':'classes', 'x':'cap_shape', 's':'cap_surface', \n",
    "                  'n':'cap_color', 't':'bruises', 'p.1':'odor', 'f':'gill_attachment', \n",
    "                  'c':'gill_spacing', 'n.1':'gill_size', 'k':'gill_color', 'e':'stalk_shape', \n",
    "                  'e.1':'stalk_root', 's.1':'stalk_surface_above_ring', 's.2':'stalk_surface_below_ring', \n",
    "                  'w':'stalk_color_above_ring', 'w.1':'stalk_color_below_ring', 'p.2':'veil_type', \n",
    "                  'w.2':'veil_color', 'o':'ring_number', 'p.3':'ring_type', 'k.1':'spore_print_color', \n",
    "                  's.3':'population', 'u':'habitat'}, inplace=True)"
   ]
  },
  {
   "cell_type": "code",
   "execution_count": 5,
   "metadata": {},
   "outputs": [],
   "source": [
    "# Replace the '?'s with NaN\n",
    "df = df.replace('?', np.nan)"
   ]
  },
  {
   "cell_type": "code",
   "execution_count": 6,
   "metadata": {},
   "outputs": [
    {
     "data": {
      "text/plain": [
       "classes                        0\n",
       "cap_shape                      0\n",
       "cap_surface                    0\n",
       "cap_color                      0\n",
       "bruises                        0\n",
       "odor                           0\n",
       "gill_attachment                0\n",
       "gill_spacing                   0\n",
       "gill_size                      0\n",
       "gill_color                     0\n",
       "stalk_shape                    0\n",
       "stalk_root                  2480\n",
       "stalk_surface_above_ring       0\n",
       "stalk_surface_below_ring       0\n",
       "stalk_color_above_ring         0\n",
       "stalk_color_below_ring         0\n",
       "veil_type                      0\n",
       "veil_color                     0\n",
       "ring_number                    0\n",
       "ring_type                      0\n",
       "spore_print_color              0\n",
       "population                     0\n",
       "habitat                        0\n",
       "dtype: int64"
      ]
     },
     "execution_count": 6,
     "metadata": {},
     "output_type": "execute_result"
    }
   ],
   "source": [
    "# Checking for missing values\n",
    "df.isnull().sum()"
   ]
  },
  {
   "cell_type": "code",
   "execution_count": 7,
   "metadata": {},
   "outputs": [],
   "source": [
    "# Replacing values in columns\n",
    "\n",
    "df['classes'] = df['classes'].replace({'p':'poisonous', 'e':'edible'})\n",
    "df['cap_shape'] = df['cap_shape'].replace(to_replace=['b','c','x','f','k','s'], value = ['bell','conical','convex','flat','knobbed','sunken'])\n",
    "df['cap_surface'] = df['cap_surface'].replace(to_replace=['f','g','y','s'], value = ['fibrous','grooves','scaly','smooth'])\n",
    "df['cap_color'] = df['cap_color'].replace(to_replace =['n','b','c','g','r','p','u','e','w','y'], value=['brown','buff','cinnamon','gray','green','pink','purple','red','white','yellow'])\n",
    "df['bruises'] = df['bruises'].replace(to_replace= ['t','f'], value = ['bruises','no'])\n",
    "df['odor'] = df['odor'].replace(to_replace = ['a','l','c','y','f','m','n','p','s'], value = ['almond','anise','creosote','fishy','foul','musty','none','pungent','spicy'])\n",
    "df['gill_attachment'] = df['gill_attachment'].replace(to_replace = ['a','d','f','n'], value =['attached','descending','free','notched'])\n",
    "df['gill_spacing'] = df['gill_spacing'].replace(to_replace = ['c','w','d'], value = ['close','crowded','distant'])\n",
    "df['gill_size'] = df['gill_size'].replace(to_replace = ['b','n'], value = ['broad','narrow'])\n",
    "df['gill_color'] = df['gill_color'].replace(to_replace = ['k','n','b','h','g','r','o','p','u','e','w','y'], value = ['black','brown','buff','chocolate','gray','green','orange','pink','purple','red','white','yellow'])\n",
    "df['stalk_shape'] = df['stalk_shape'].replace(to_replace =['e','t'], value = ['enlarging','tapering'])\n",
    "df['stalk_root'] = df['stalk_root'].replace(to_replace =['b','c','u','e','z','r','?'], value = ['bulbous',' club','cup','equal','rhizomorphs','rooted',np.nan])\n",
    "df['stalk_surface_above_ring'] = df['stalk_surface_above_ring'].replace(to_replace =['f','y','k','s'], value = ['fibrous','scaly','silky','smooth'])\n",
    "df['stalk_surface_below_ring'] = df['stalk_surface_below_ring'].replace(to_replace =['f','y','k','s'], value = ['fibrous','scaly','silky','smooth'])\n",
    "df['stalk_color_above_ring'] = df['stalk_color_above_ring'].replace(to_replace =['n','b','c','g','o','p','e','w','y'], value = ['brown','buff','cinnamon','gray','orange','pink','red','white','yellow'])\n",
    "df['stalk_color_below_ring'] = df['stalk_color_below_ring'].replace(to_replace =['n','b','c','g','o','p','e','w','y'], value = ['brown','buff','cinnamon','gray','orange','pink','red','white','yellow'])\n",
    "df['veil_type'] = df['veil_type'].replace(to_replace =['p','u'], value =['partial','universal'])\n",
    "df['veil_color'] = df['veil_color'].replace(to_replace =['n','o','w','y'], value =['brown','orange','white','yellow'])\n",
    "df['ring_number'] = df['ring_number'].replace(to_replace =['n','o','t'], value =['none','one','two'])\n",
    "df['ring_type'] = df['ring_type'].replace(to_replace =['c','e','f','l','n','p','s','z'], value = ['cobwebby','evanescent','flaring','large','none','pendant','sheathing','zone'])\n",
    "df['spore_print_color'] = df['spore_print_color'].replace(to_replace =['k','n','b','h','r','o','u','w','y'], value = ['black','brown','buff','chocolate','green','orange','purple','white','yellow'])\n",
    "df['population'] = df['population'].replace(to_replace =['a','c','n','s','v','y'], value = ['abundant','clustered','numerous','scattered','several','solitary'])\n",
    "df['habitat'] = df['habitat'].replace(to_replace =['g','l','m','p','u','w','d'], value = ['grasses', 'leaves', 'meadows', 'paths', 'urban', 'waste', 'woods'])"
   ]
  },
  {
   "cell_type": "code",
   "execution_count": 8,
   "metadata": {},
   "outputs": [
    {
     "name": "stdout",
     "output_type": "stream",
     "text": [
      "classes                     0\n",
      "cap_shape                   0\n",
      "cap_surface                 0\n",
      "cap_color                   0\n",
      "bruises                     0\n",
      "odor                        0\n",
      "gill_attachment             0\n",
      "gill_spacing                0\n",
      "gill_size                   0\n",
      "gill_color                  0\n",
      "stalk_shape                 0\n",
      "stalk_root                  0\n",
      "stalk_surface_above_ring    0\n",
      "stalk_surface_below_ring    0\n",
      "stalk_color_above_ring      0\n",
      "stalk_color_below_ring      0\n",
      "veil_type                   0\n",
      "veil_color                  0\n",
      "ring_number                 0\n",
      "ring_type                   0\n",
      "spore_print_color           0\n",
      "population                  0\n",
      "habitat                     0\n",
      "dtype: int64\n"
     ]
    }
   ],
   "source": [
    "# Iterate over each column of df\n",
    "for col in df.columns:\n",
    "    # Check if the column is of object type\n",
    "    if df[col].dtypes == 'object':\n",
    "        # Impute with the most frequent value\n",
    "        df = df.fillna(df[col].value_counts().index[0])\n",
    "        \n",
    "print(df.isnull().sum())"
   ]
  },
  {
   "cell_type": "code",
   "execution_count": 9,
   "metadata": {},
   "outputs": [
    {
     "data": {
      "text/plain": [
       "edible       4208\n",
       "poisonous    3915\n",
       "Name: classes, dtype: int64"
      ]
     },
     "execution_count": 9,
     "metadata": {},
     "output_type": "execute_result"
    }
   ],
   "source": [
    "# Counting the number of edible and poisonous mashrooms\n",
    "df['classes'].value_counts()"
   ]
  },
  {
   "cell_type": "markdown",
   "metadata": {},
   "source": [
    "- We have 4208 edible mashrooms and 3915 poisonous mashrooms"
   ]
  },
  {
   "cell_type": "code",
   "execution_count": null,
   "metadata": {},
   "outputs": [],
   "source": [
    "# GETTING BASIC DESCRIPTION OF EDIBLE AND POISONOUS MASHROOMS"
   ]
  },
  {
   "cell_type": "code",
   "execution_count": 17,
   "metadata": {},
   "outputs": [
    {
     "data": {
      "text/plain": [
       "classes                         edible\n",
       "cap_shape                         bell\n",
       "cap_surface                    fibrous\n",
       "cap_color                        brown\n",
       "bruises                        bruises\n",
       "odor                            almond\n",
       "gill_attachment               attached\n",
       "gill_spacing                     close\n",
       "gill_size                        broad\n",
       "gill_color                       black\n",
       "stalk_shape                  enlarging\n",
       "stalk_root                        club\n",
       "stalk_surface_above_ring       fibrous\n",
       "stalk_surface_below_ring       fibrous\n",
       "stalk_color_above_ring           brown\n",
       "stalk_color_below_ring           brown\n",
       "veil_type                      partial\n",
       "veil_color                       brown\n",
       "ring_number                       none\n",
       "ring_type                   evanescent\n",
       "spore_print_color                black\n",
       "population                    abundant\n",
       "habitat                        grasses\n",
       "dtype: object"
      ]
     },
     "execution_count": 17,
     "metadata": {},
     "output_type": "execute_result"
    }
   ],
   "source": [
    "df.min()"
   ]
  },
  {
   "cell_type": "markdown",
   "metadata": {},
   "source": [
    " - An edible mashroom has brown cap colour, and has a bell cap_shape and grows on grasses"
   ]
  },
  {
   "cell_type": "code",
   "execution_count": 18,
   "metadata": {},
   "outputs": [
    {
     "data": {
      "text/plain": [
       "classes                     poisonous\n",
       "cap_shape                      sunken\n",
       "cap_surface                    smooth\n",
       "cap_color                      yellow\n",
       "bruises                            no\n",
       "odor                            spicy\n",
       "gill_attachment                  free\n",
       "gill_spacing                  crowded\n",
       "gill_size                      narrow\n",
       "gill_color                     yellow\n",
       "stalk_shape                  tapering\n",
       "stalk_root                     rooted\n",
       "stalk_surface_above_ring       smooth\n",
       "stalk_surface_below_ring       smooth\n",
       "stalk_color_above_ring         yellow\n",
       "stalk_color_below_ring         yellow\n",
       "veil_type                     partial\n",
       "veil_color                     yellow\n",
       "ring_number                       two\n",
       "ring_type                     pendant\n",
       "spore_print_color              yellow\n",
       "population                   solitary\n",
       "habitat                         woods\n",
       "dtype: object"
      ]
     },
     "execution_count": 18,
     "metadata": {},
     "output_type": "execute_result"
    }
   ],
   "source": [
    "df.max()"
   ]
  },
  {
   "cell_type": "markdown",
   "metadata": {},
   "source": [
    "- An poisonous mashroom has brown cap yelow, and has a sunken cap_shape and grows on woods"
   ]
  },
  {
   "cell_type": "code",
   "execution_count": 19,
   "metadata": {},
   "outputs": [
    {
     "data": {
      "text/html": [
       "<div>\n",
       "<style scoped>\n",
       "    .dataframe tbody tr th:only-of-type {\n",
       "        vertical-align: middle;\n",
       "    }\n",
       "\n",
       "    .dataframe tbody tr th {\n",
       "        vertical-align: top;\n",
       "    }\n",
       "\n",
       "    .dataframe thead th {\n",
       "        text-align: right;\n",
       "    }\n",
       "</style>\n",
       "<table border=\"1\" class=\"dataframe\">\n",
       "  <thead>\n",
       "    <tr style=\"text-align: right;\">\n",
       "      <th></th>\n",
       "      <th>classes</th>\n",
       "      <th>cap_shape</th>\n",
       "      <th>cap_surface</th>\n",
       "      <th>cap_color</th>\n",
       "      <th>bruises</th>\n",
       "      <th>odor</th>\n",
       "      <th>gill_attachment</th>\n",
       "      <th>gill_spacing</th>\n",
       "      <th>gill_size</th>\n",
       "      <th>gill_color</th>\n",
       "      <th>...</th>\n",
       "      <th>stalk_surface_below_ring</th>\n",
       "      <th>stalk_color_above_ring</th>\n",
       "      <th>stalk_color_below_ring</th>\n",
       "      <th>veil_type</th>\n",
       "      <th>veil_color</th>\n",
       "      <th>ring_number</th>\n",
       "      <th>ring_type</th>\n",
       "      <th>spore_print_color</th>\n",
       "      <th>population</th>\n",
       "      <th>habitat</th>\n",
       "    </tr>\n",
       "  </thead>\n",
       "  <tbody>\n",
       "    <tr>\n",
       "      <th>count</th>\n",
       "      <td>8123</td>\n",
       "      <td>8123</td>\n",
       "      <td>8123</td>\n",
       "      <td>8123</td>\n",
       "      <td>8123</td>\n",
       "      <td>8123</td>\n",
       "      <td>8123</td>\n",
       "      <td>8123</td>\n",
       "      <td>8123</td>\n",
       "      <td>8123</td>\n",
       "      <td>...</td>\n",
       "      <td>8123</td>\n",
       "      <td>8123</td>\n",
       "      <td>8123</td>\n",
       "      <td>8123</td>\n",
       "      <td>8123</td>\n",
       "      <td>8123</td>\n",
       "      <td>8123</td>\n",
       "      <td>8123</td>\n",
       "      <td>8123</td>\n",
       "      <td>8123</td>\n",
       "    </tr>\n",
       "    <tr>\n",
       "      <th>unique</th>\n",
       "      <td>2</td>\n",
       "      <td>6</td>\n",
       "      <td>4</td>\n",
       "      <td>10</td>\n",
       "      <td>2</td>\n",
       "      <td>9</td>\n",
       "      <td>2</td>\n",
       "      <td>2</td>\n",
       "      <td>2</td>\n",
       "      <td>12</td>\n",
       "      <td>...</td>\n",
       "      <td>4</td>\n",
       "      <td>9</td>\n",
       "      <td>9</td>\n",
       "      <td>1</td>\n",
       "      <td>4</td>\n",
       "      <td>3</td>\n",
       "      <td>5</td>\n",
       "      <td>9</td>\n",
       "      <td>6</td>\n",
       "      <td>7</td>\n",
       "    </tr>\n",
       "    <tr>\n",
       "      <th>top</th>\n",
       "      <td>edible</td>\n",
       "      <td>convex</td>\n",
       "      <td>scaly</td>\n",
       "      <td>brown</td>\n",
       "      <td>no</td>\n",
       "      <td>none</td>\n",
       "      <td>free</td>\n",
       "      <td>close</td>\n",
       "      <td>broad</td>\n",
       "      <td>buff</td>\n",
       "      <td>...</td>\n",
       "      <td>smooth</td>\n",
       "      <td>white</td>\n",
       "      <td>white</td>\n",
       "      <td>partial</td>\n",
       "      <td>white</td>\n",
       "      <td>one</td>\n",
       "      <td>pendant</td>\n",
       "      <td>white</td>\n",
       "      <td>several</td>\n",
       "      <td>woods</td>\n",
       "    </tr>\n",
       "    <tr>\n",
       "      <th>freq</th>\n",
       "      <td>4208</td>\n",
       "      <td>3655</td>\n",
       "      <td>3244</td>\n",
       "      <td>2283</td>\n",
       "      <td>4748</td>\n",
       "      <td>3528</td>\n",
       "      <td>7913</td>\n",
       "      <td>6811</td>\n",
       "      <td>5612</td>\n",
       "      <td>1728</td>\n",
       "      <td>...</td>\n",
       "      <td>4935</td>\n",
       "      <td>4463</td>\n",
       "      <td>4383</td>\n",
       "      <td>8123</td>\n",
       "      <td>7923</td>\n",
       "      <td>7487</td>\n",
       "      <td>3967</td>\n",
       "      <td>2388</td>\n",
       "      <td>4040</td>\n",
       "      <td>3148</td>\n",
       "    </tr>\n",
       "  </tbody>\n",
       "</table>\n",
       "<p>4 rows × 23 columns</p>\n",
       "</div>"
      ],
      "text/plain": [
       "       classes cap_shape cap_surface cap_color bruises  odor gill_attachment  \\\n",
       "count     8123      8123        8123      8123    8123  8123            8123   \n",
       "unique       2         6           4        10       2     9               2   \n",
       "top     edible    convex       scaly     brown      no  none            free   \n",
       "freq      4208      3655        3244      2283    4748  3528            7913   \n",
       "\n",
       "       gill_spacing gill_size gill_color  ... stalk_surface_below_ring  \\\n",
       "count          8123      8123       8123  ...                     8123   \n",
       "unique            2         2         12  ...                        4   \n",
       "top           close     broad       buff  ...                   smooth   \n",
       "freq           6811      5612       1728  ...                     4935   \n",
       "\n",
       "       stalk_color_above_ring stalk_color_below_ring veil_type veil_color  \\\n",
       "count                    8123                   8123      8123       8123   \n",
       "unique                      9                      9         1          4   \n",
       "top                     white                  white   partial      white   \n",
       "freq                     4463                   4383      8123       7923   \n",
       "\n",
       "       ring_number ring_type spore_print_color population habitat  \n",
       "count         8123      8123              8123       8123    8123  \n",
       "unique           3         5                 9          6       7  \n",
       "top            one   pendant             white    several   woods  \n",
       "freq          7487      3967              2388       4040    3148  \n",
       "\n",
       "[4 rows x 23 columns]"
      ]
     },
     "execution_count": 19,
     "metadata": {},
     "output_type": "execute_result"
    }
   ],
   "source": [
    "df.describe()"
   ]
  },
  {
   "cell_type": "markdown",
   "metadata": {},
   "source": [
    "# SPLITING THE DATA  INTO TRAINING AND TEST DATA SETS"
   ]
  },
  {
   "cell_type": "code",
   "execution_count": 10,
   "metadata": {},
   "outputs": [
    {
     "name": "stdout",
     "output_type": "stream",
     "text": [
      "(6498,) (6498, 117)\n",
      "(1625,) (1625, 117)\n"
     ]
    }
   ],
   "source": [
    "#split dataset in features and target variable\n",
    "X = df[df.columns[1:]]\n",
    "y = df.classes\n",
    "\n",
    "# encode categorical features and replace target values to binary values\n",
    "X_dummy = pd.get_dummies(X)\n",
    "y_dummy = df['classes'].replace(['edible', 'poisonous'], [1, 0])\n",
    "\n",
    "# split into train and test set\n",
    "X_train, X_test, y_train, y_test = train_test_split(X_dummy, y_dummy, test_size=0.20, stratify=y_dummy, random_state=42)\n",
    "\n",
    "print(y_train.shape, X_train.shape)\n",
    "print(y_test.shape, X_test.shape)"
   ]
  },
  {
   "cell_type": "markdown",
   "metadata": {},
   "source": [
    "# PREPROCESSING DATA"
   ]
  },
  {
   "cell_type": "code",
   "execution_count": 11,
   "metadata": {},
   "outputs": [],
   "source": [
    "# instantiate MinMaxScaler and use it to rescale X_train and X_test\n",
    "scaler = MinMaxScaler()\n",
    "rescaledX_train = scaler.fit_transform(X_train)\n",
    "rescaledX_test = scaler.fit_transform(X_test)"
   ]
  },
  {
   "cell_type": "markdown",
   "metadata": {},
   "source": [
    "# BUILDING DESICION TREE MODEL"
   ]
  },
  {
   "cell_type": "code",
   "execution_count": 12,
   "metadata": {},
   "outputs": [],
   "source": [
    "\n",
    "# Instantiate a DecisionTree classifier with default parameter values\n",
    "decision_tree = DecisionTreeClassifier()\n",
    "\n",
    "# Fit decision_tree to the train set\n",
    "decision_tree = decision_tree.fit(rescaledX_train, y_train)\n",
    "\n",
    "#Predictions\n",
    "y_pred = decision_tree.predict(rescaledX_test)\n",
    "y_pred_train = decision_tree.predict(rescaledX_train)"
   ]
  },
  {
   "cell_type": "markdown",
   "metadata": {},
   "source": [
    "# CLASSIFICATION REPORT"
   ]
  },
  {
   "cell_type": "code",
   "execution_count": 13,
   "metadata": {},
   "outputs": [
    {
     "name": "stdout",
     "output_type": "stream",
     "text": [
      "Decision Tree classification report:\n",
      "Test set               precision    recall  f1-score   support\n",
      "\n",
      "           0       1.00      1.00      1.00       783\n",
      "           1       1.00      1.00      1.00       842\n",
      "\n",
      "    accuracy                           1.00      1625\n",
      "   macro avg       1.00      1.00      1.00      1625\n",
      "weighted avg       1.00      1.00      1.00      1625\n",
      "\n",
      "\n",
      "\n",
      "Train set               precision    recall  f1-score   support\n",
      "\n",
      "           0       1.00      1.00      1.00      3132\n",
      "           1       1.00      1.00      1.00      3366\n",
      "\n",
      "    accuracy                           1.00      6498\n",
      "   macro avg       1.00      1.00      1.00      6498\n",
      "weighted avg       1.00      1.00      1.00      6498\n",
      "\n"
     ]
    }
   ],
   "source": [
    "print('Decision Tree classification report:')\n",
    "print('Test set', classification_report(y_test, y_pred))            \n",
    "print('\\n')\n",
    "print('Train set', classification_report(y_train, y_pred_train))"
   ]
  },
  {
   "cell_type": "markdown",
   "metadata": {},
   "source": [
    "- This model is 100 percent accurate\n",
    "- This is because we are using a part of training data for testing. At the time of training, decision tree gained the knowledge about that data, and now if we give it same data to predict it will give us exactly the same value.  "
   ]
  },
  {
   "cell_type": "markdown",
   "metadata": {},
   "source": [
    "# CONFUSION MATRIX"
   ]
  },
  {
   "cell_type": "code",
   "execution_count": 14,
   "metadata": {},
   "outputs": [
    {
     "name": "stdout",
     "output_type": "stream",
     "text": [
      "Test set\n",
      " [[783   0]\n",
      " [  0 842]]\n",
      "\n",
      "\n",
      "Train set\n",
      " [[3132    0]\n",
      " [   0 3366]]\n"
     ]
    }
   ],
   "source": [
    "print('Test set\\n', confusion_matrix(y_test, y_pred))\n",
    "print('\\n')\n",
    "print('Train set\\n',confusion_matrix(y_train, y_pred_train))"
   ]
  },
  {
   "cell_type": "markdown",
   "metadata": {},
   "source": [
    "- For the train set we have 783 true positives and 0 false positives\n",
    "- We also have 0 true negatives and 842 false negative for the train set\n",
    "- For the test set we have 3132 true positive and 0 false positive\n",
    "- We also have 0 true negatives and 3366 false negative for the test set"
   ]
  },
  {
   "cell_type": "markdown",
   "metadata": {},
   "source": [
    "# RECEIVER OPERATING CHARACTERISTIC (ROC) CURVE"
   ]
  },
  {
   "cell_type": "code",
   "execution_count": 15,
   "metadata": {},
   "outputs": [],
   "source": [
    "logreg_roc_auc = roc_auc_score(y_test, y_pred)\n",
    "fpr, tpr, threshold_log = roc_curve(y_test, y_pred)"
   ]
  },
  {
   "cell_type": "code",
   "execution_count": 16,
   "metadata": {},
   "outputs": [
    {
     "data": {
      "image/png": "[encoded data removed]",
      "text/plain": [
       "<Figure size 432x288 with 1 Axes>"
      ]
     },
     "metadata": {
      "needs_background": "light"
     },
     "output_type": "display_data"
    }
   ],
   "source": [
    "plt.plot(fpr, tpr, color='red', label='ROC')\n",
    "plt.plot([0, 1], [0, 1], color='blue', linestyle='--')\n",
    "plt.xlabel('False Positive Rate')\n",
    "plt.ylabel('True Positive Rate')\n",
    "plt.title('RECEIVER OPERATING CHARACTERISTIC (ROC) CURVE')\n",
    "plt.legend()\n",
    "plt.show()"
   ]
  },
  {
   "cell_type": "markdown",
   "metadata": {},
   "source": [
    "- The ROC Curve  supports the 100 percent accuracy of the model."
   ]
  }
 ],
 "metadata": {
  "kernelspec": {
   "display_name": "Python 3",
   "language": "python",
   "name": "python3"
  },
  "language_info": {
   "codemirror_mode": {
    "name": "ipython",
    "version": 3
   },
   "file_extension": ".py",
   "mimetype": "text/x-python",
   "name": "python",
   "nbconvert_exporter": "python",
   "pygments_lexer": "ipython3",
   "version": "3.7.5"
  }
 },
 "nbformat": 4,
 "nbformat_minor": 4
}
